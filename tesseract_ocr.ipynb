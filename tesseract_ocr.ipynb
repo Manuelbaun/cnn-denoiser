{
 "cells": [
  {
   "cell_type": "code",
   "execution_count": null,
   "metadata": {},
   "outputs": [],
   "source": [
    "import os\n",
    "import pytesseract\n",
    "from pytesseract import Output\n",
    "from PIL import Image, ImageDraw, ImageFont\n",
    "from IPython.display import display"
   ]
  },
  {
   "cell_type": "code",
   "execution_count": null,
   "metadata": {},
   "outputs": [],
   "source": [
    "pytesseract.pytesseract.tesseract_cmd = r'C:\\Program Files\\Tesseract-OCR\\tesseract.exe'"
   ]
  },
  {
   "cell_type": "code",
   "execution_count": null,
   "metadata": {},
   "outputs": [],
   "source": [
    "# List of available languages\n",
    "print(pytesseract.get_languages(config=''))"
   ]
  },
  {
   "cell_type": "code",
   "execution_count": null,
   "metadata": {},
   "outputs": [],
   "source": [
    "ocr_data_path = 'data/ocr_data/'\n",
    "input_path = 'data/processed/'\n",
    "output_path = 'data/tesseract_preprocessed/'\n",
    "input_images_name = sorted(os.listdir(input_path))\n",
    "print(input_images_name)"
   ]
  },
  {
   "cell_type": "code",
   "execution_count": null,
   "metadata": {},
   "outputs": [],
   "source": [
    "HEIGHT = 3072\n",
    "# Draw bounding boxes and text\n",
    "def draw_image(image, bounds, color='red', width=2):\n",
    "    myFont = ImageFont.truetype('data/font/msyh.ttc', 32)\n",
    "    draw = ImageDraw.Draw(image)\n",
    "    for i in range(len(bounds['char'])):\n",
    "        p0 = [bounds['left'][i], HEIGHT-bounds['bottom'][i]]\n",
    "        p1 = [bounds['right'][i], HEIGHT-bounds['bottom'][i]]\n",
    "        draw.line([*p0, *p1], fill=color, width=width)\n",
    "        draw.text(p0, bounds['char'][i], font=myFont, fill=(255, 0, 0))\n",
    "    return image"
   ]
  },
  {
   "cell_type": "code",
   "execution_count": null,
   "metadata": {},
   "outputs": [],
   "source": [
    "# Save output images\n",
    "for img_name in input_images_name[16:]:\n",
    "    image = Image.open(input_path + img_name)\n",
    "    image = image.rotate(90, expand=True) # uncomment this line if necessary\n",
    "    results = pytesseract.image_to_boxes(image, lang='chi_sim', output_type=Output.DICT)\n",
    "    draw_image(image, results).save(output_path + img_name)\n",
    "    print(output_path + img_name)"
   ]
  },
  {
   "cell_type": "code",
   "execution_count": null,
   "metadata": {},
   "outputs": [],
   "source": [
    "image = Image.open('data/processed/IMG_0868.JPG')\n",
    "image = image.rotate(90, expand=True) # uncomment this line if necessary\n",
    "print(pytesseract.image_to_string(image, lang='chi_sim', output_type=Output.STRING))\n",
    "display(draw_image(image, results))"
   ]
  },
  {
   "cell_type": "code",
   "execution_count": null,
   "metadata": {},
   "outputs": [],
   "source": []
  }
 ],
 "metadata": {
  "kernelspec": {
   "display_name": "Python 3.9.9 64-bit",
   "language": "python",
   "name": "python3"
  },
  "language_info": {
   "codemirror_mode": {
    "name": "ipython",
    "version": 3
   },
   "file_extension": ".py",
   "mimetype": "text/x-python",
   "name": "python",
   "nbconvert_exporter": "python",
   "pygments_lexer": "ipython3",
   "version": "3.9.9"
  },
  "orig_nbformat": 4,
  "vscode": {
   "interpreter": {
    "hash": "b0fa6594d8f4cbf19f97940f81e996739fb7646882a419484c72d19e05852a7e"
   }
  }
 },
 "nbformat": 4,
 "nbformat_minor": 2
}
